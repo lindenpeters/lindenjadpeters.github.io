{
  "nbformat": 4,
  "nbformat_minor": 0,
  "metadata": {
    "colab": {
      "provenance": [],
      "authorship_tag": "ABX9TyNqqlspXpniSb1UWNJ8fcem",
      "include_colab_link": true
    },
    "kernelspec": {
      "name": "python3",
      "display_name": "Python 3"
    },
    "language_info": {
      "name": "python"
    }
  },
  "cells": [
    {
      "cell_type": "markdown",
      "metadata": {
        "id": "view-in-github",
        "colab_type": "text"
      },
      "source": [
        "<a href=\"https://colab.research.google.com/github/lindenpeters/lindenpeters.github.io/blob/main/files/Final_Quest.ipynb\" target=\"_parent\"><img src=\"https://colab.research.google.com/assets/colab-badge.svg\" alt=\"Open In Colab\"/></a>"
      ]
    },
    {
      "cell_type": "code",
      "source": [
        "pip install pygame"
      ],
      "metadata": {
        "colab": {
          "base_uri": "https://localhost:8080/"
        },
        "id": "2zhihhVOzdyn",
        "outputId": "f6bd5514-6c30-44ff-8d86-c4e9809386bf"
      },
      "execution_count": 3,
      "outputs": [
        {
          "output_type": "stream",
          "name": "stdout",
          "text": [
            "Requirement already satisfied: pygame in /usr/local/lib/python3.11/dist-packages (2.6.1)\n"
          ]
        }
      ]
    },
    {
      "cell_type": "code",
      "execution_count": 4,
      "metadata": {
        "id": "o79JWCCDzJqz"
      },
      "outputs": [],
      "source": [
        "#2048\n",
        "import pygame\n",
        "import random"
      ]
    },
    {
      "cell_type": "code",
      "source": [
        "\n",
        "# Text rendering function:\n",
        "text_font = pygame.font.SysFont(\"Arial\",30)\n",
        "def draw_text(text, font, text_col,x,y):\n",
        "    img = font.render(text, True, text_col)\n",
        "    screen.blit(img, (x,y))\n"
      ],
      "metadata": {
        "id": "yLKNgyHwzm_i"
      },
      "execution_count": null,
      "outputs": []
    },
    {
      "cell_type": "code",
      "source": [
        "squares = [[0]*4]*4\n",
        "for i in range(2):\n",
        "    random_square = 2 + 2 * (random.randint(1,10) == 10)\n",
        "    random_index = random.randint(0,15)\n",
        "    squares[random_index//4][random_index % 4] = random_square"
      ],
      "metadata": {
        "id": "hbcIERHpzWpo"
      },
      "execution_count": null,
      "outputs": []
    },
    {
      "cell_type": "code",
      "source": [
        "# pygame setup\n",
        "pygame.init()\n",
        "screen = pygame.display.set_mode((500, 500))\n",
        "clock = pygame.time.Clock()\n",
        "pygame.display.set_caption('2048')\n",
        "pygame.font.init()\n",
        "running = True"
      ],
      "metadata": {
        "colab": {
          "base_uri": "https://localhost:8080/",
          "height": 106
        },
        "id": "-eZxf3chzQxv",
        "outputId": "76d84afd-5b4b-4677-e083-18e8f4019ee4"
      },
      "execution_count": 5,
      "outputs": [
        {
          "output_type": "error",
          "ename": "IndentationError",
          "evalue": "expected an indented block after 'for' statement on line 24 (<ipython-input-5-04212a0ff87a>, line 25)",
          "traceback": [
            "\u001b[0;36m  File \u001b[0;32m\"<ipython-input-5-04212a0ff87a>\"\u001b[0;36m, line \u001b[0;32m25\u001b[0m\n\u001b[0;31m    def left():\u001b[0m\n\u001b[0m               ^\u001b[0m\n\u001b[0;31mIndentationError\u001b[0m\u001b[0;31m:\u001b[0m expected an indented block after 'for' statement on line 24\n"
          ]
        }
      ]
    },
    {
      "cell_type": "code",
      "source": [
        "squares = [\n",
        "    [\"0\",\"2\",\"0\",\"2\"],\n",
        "    [\"2\",\"2\",\"0\",\"0\"],\n",
        "    [\"0\",\"0\",\"0\",\"0\"],\n",
        "    [\"0\",\"0\",\"0\",\"0\"]\n",
        "]\n",
        "def left(squares):\n",
        "  for r in range(4):\n",
        "    # convert to int for easy processing and getting rid of 0s\n",
        "    row = [int(x) for x in squares[r] if x != \"0\"]\n",
        "    i = 0\n",
        "    while i < len(row):\n",
        "\n",
        "left(squares)"
      ],
      "metadata": {
        "id": "0UJS2wjQ4ZIo"
      },
      "execution_count": 31,
      "outputs": []
    },
    {
      "cell_type": "code",
      "source": [
        "while running:\n",
        "    color = pygame.Color(125,125,125)\n",
        "    events = pygame.event.get()\n",
        "    for event in events:\n",
        "        if event.type == pygame.QUIT:\n",
        "            running = False\n",
        "\n",
        "        # Filling a random number every time a key is pressed\n",
        "        if event.type == pygame.KEYDOWN and event.key in (pygame.K_LEFT, pygame.K_RIGHT, pygame.K_UP, pygame.K_DOWN):\n",
        "            empty_indices = [i for i, v in enumerate(squares) if v == 0]\n",
        "            if empty_indices:\n",
        "                new_index = random.choice(empty_indices)\n",
        "                squares[new_index] = 2 + 2 * (random.randint(1, 10) == 10)\n",
        "\n",
        "\n",
        "    screen.fill(color)\n",
        "\n",
        "    for i in range(0,4):\n",
        "        pygame.draw.line(screen,(0,0,0), (125*i,0), (125*i,500))\n",
        "        pygame.draw.line(screen,(0,0,0), (0,125*i), (500,125*i))\n",
        "        for j in range(0,4):\n",
        "            draw_text(str(squares[(i*4)+j]),text_font, (0,0,0),125*j + 50, 125*i+50)\n",
        "    \"\"\"\n",
        "    draw_text(str(squares), text_font, (0,0,0),0, 125)\n",
        "    \"\"\"\n",
        "    pygame.display.flip()\n",
        "\n",
        "    clock.tick(4)  # limits FPS to 60\n",
        "pygame.quit()"
      ],
      "metadata": {
        "id": "FBjV7Rpi2iOP"
      },
      "execution_count": null,
      "outputs": []
    }
  ]
}